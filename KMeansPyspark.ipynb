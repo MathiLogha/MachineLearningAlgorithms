{
  "nbformat": 4,
  "nbformat_minor": 0,
  "metadata": {
    "colab": {
      "provenance": []
    },
    "kernelspec": {
      "name": "python3",
      "display_name": "Python 3"
    },
    "language_info": {
      "name": "python"
    }
  },
  "cells": [
    {
      "cell_type": "code",
      "execution_count": 1,
      "metadata": {
        "colab": {
          "base_uri": "https://localhost:8080/"
        },
        "id": "rGumaCavPhlT",
        "outputId": "164e608c-52bc-44aa-81d7-780fce6a0702"
      },
      "outputs": [
        {
          "output_type": "stream",
          "name": "stdout",
          "text": [
            "Looking in indexes: https://pypi.org/simple, https://us-python.pkg.dev/colab-wheels/public/simple/\n",
            "Collecting pyspark\n",
            "  Downloading pyspark-3.3.0.tar.gz (281.3 MB)\n",
            "\u001b[K     |████████████████████████████████| 281.3 MB 47 kB/s \n",
            "\u001b[?25hCollecting py4j==0.10.9.5\n",
            "  Downloading py4j-0.10.9.5-py2.py3-none-any.whl (199 kB)\n",
            "\u001b[K     |████████████████████████████████| 199 kB 38.4 MB/s \n",
            "\u001b[?25hBuilding wheels for collected packages: pyspark\n",
            "  Building wheel for pyspark (setup.py) ... \u001b[?25l\u001b[?25hdone\n",
            "  Created wheel for pyspark: filename=pyspark-3.3.0-py2.py3-none-any.whl size=281764026 sha256=b6b75dc726a8879281553a0bbd3d697e4747fda21659ddde7bdeeec048cb5a15\n",
            "  Stored in directory: /root/.cache/pip/wheels/7a/8e/1b/f73a52650d2e5f337708d9f6a1750d451a7349a867f928b885\n",
            "Successfully built pyspark\n",
            "Installing collected packages: py4j, pyspark\n",
            "Successfully installed py4j-0.10.9.5 pyspark-3.3.0\n"
          ]
        }
      ],
      "source": [
        "pip install pyspark"
      ]
    },
    {
      "cell_type": "code",
      "source": [
        "import pandas as pd\n",
        "from sklearn.datasets import load_iris\n",
        "from pyspark.context import SparkContext\n",
        "from pyspark.sql.session import SparkSession\n",
        "sc = SparkContext('local')\n",
        "spark = SparkSession(sc)\n",
        "df_iris = load_iris(as_frame=True)"
      ],
      "metadata": {
        "id": "KggbbnV2R41k"
      },
      "execution_count": 9,
      "outputs": []
    },
    {
      "cell_type": "code",
      "source": [
        "pd_df_iris = pd.DataFrame(df_iris.data, columns = df_iris.feature_names)\n",
        "pd_df_iris['target'] = pd.Series(df_iris.target)"
      ],
      "metadata": {
        "id": "BPBoItOzR5bp"
      },
      "execution_count": 10,
      "outputs": []
    },
    {
      "cell_type": "code",
      "source": [
        "spark_df_iris = spark.createDataFrame(pd_df_iris)\n",
        "spark_df_iris = spark_df_iris.drop(\"target\")"
      ],
      "metadata": {
        "id": "VtAudxYIR69r"
      },
      "execution_count": 11,
      "outputs": []
    },
    {
      "cell_type": "code",
      "source": [
        "from pyspark.ml.feature import VectorAssembler\n",
        "assemble=VectorAssembler(inputCols=[\n",
        "'sepal length (cm)',\n",
        "'sepal width (cm)',\n",
        "'petal length (cm)',\n",
        "'petal width (cm)'],outputCol = 'iris_features')\n",
        "\n",
        "assembled_data=assemble.transform(spark_df_iris)"
      ],
      "metadata": {
        "id": "pTKAjrRtR_mT"
      },
      "execution_count": 12,
      "outputs": []
    },
    {
      "cell_type": "code",
      "source": [
        "from pyspark.ml.clustering import KMeans\n",
        "from pyspark.ml.evaluation import ClusteringEvaluator\n",
        "\n",
        "silhouette_scores=[]\n",
        "evaluator = ClusteringEvaluator(featuresCol='iris_features', \\\n",
        "metricName='silhouette', distanceMeasure='squaredEuclidean')\n",
        "\n",
        "for K in range(2,11):\n",
        "\n",
        "    KMeans_=KMeans(featuresCol='iris_features', k=K)\n",
        "\n",
        "    KMeans_fit=KMeans_.fit(assembled_data)\n",
        "\n",
        "    KMeans_transform=KMeans_fit.transform(assembled_data) \n",
        "\n",
        "    evaluation_score=evaluator.evaluate(KMeans_transform)\n",
        "\n",
        "    silhouette_scores.append(evaluation_score)"
      ],
      "metadata": {
        "id": "srVSgg6gSHr8"
      },
      "execution_count": 13,
      "outputs": []
    },
    {
      "cell_type": "code",
      "source": [
        "import matplotlib.pyplot as plt\n",
        "fig, ax = plt.subplots(1,1, figsize =(10,8))\n",
        "ax.plot(range(2,11),silhouette_scores)\n",
        "ax.set_xlabel('Number of Clusters')\n",
        "ax.set_ylabel('Silhouette Score')"
      ],
      "metadata": {
        "colab": {
          "base_uri": "https://localhost:8080/",
          "height": 514
        },
        "id": "EtcpkPkDSInt",
        "outputId": "61a9d8bb-8f4e-4b7c-e4fd-a9414c0a7f7e"
      },
      "execution_count": 14,
      "outputs": [
        {
          "output_type": "execute_result",
          "data": {
            "text/plain": [
              "Text(0, 0.5, 'Silhouette Score')"
            ]
          },
          "metadata": {},
          "execution_count": 14
        },
        {
          "output_type": "display_data",
          "data": {
            "text/plain": [
              "<Figure size 720x576 with 1 Axes>"
            ],
            "image/png": "[encoded data removed]"
          },
          "metadata": {
            "needs_background": "light"
          }
        }
      ]
    },
    {
      "cell_type": "code",
      "source": [
        "KMeans_=KMeans(featuresCol='iris_features', k=3) \n",
        "KMeans_Model=KMeans_.fit(assembled_data)\n",
        "KMeans_Assignments=KMeans_Model.transform(assembled_data)"
      ],
      "metadata": {
        "id": "fLjFkFjfSKF0"
      },
      "execution_count": 15,
      "outputs": []
    },
    {
      "cell_type": "code",
      "source": [
        "from pyspark.ml.feature import PCA as PCAml\n",
        "pca = PCAml(k=2, inputCol=\"iris_features\", outputCol=\"pca\")\n",
        "pca_model = pca.fit(assembled_data)\n",
        "pca_transformed = pca_model.transform(assembled_data)"
      ],
      "metadata": {
        "id": "awUVCkEZSMFb"
      },
      "execution_count": 16,
      "outputs": []
    },
    {
      "cell_type": "code",
      "source": [
        "import numpy as np\n",
        "x_pca = np.array(pca_transformed.rdd.map(lambda row: row.pca).collect())"
      ],
      "metadata": {
        "id": "mBUOFk5oSNfK"
      },
      "execution_count": 17,
      "outputs": []
    },
    {
      "cell_type": "code",
      "source": [
        "cluster_assignment = np.array(KMeans_Assignments.rdd.map(lambda row: row.prediction).collect()).reshape(-1,1)\n"
      ],
      "metadata": {
        "id": "3F81lg66SPAf"
      },
      "execution_count": 18,
      "outputs": []
    },
    {
      "cell_type": "code",
      "source": [
        "import seaborn as sns\n",
        "import matplotlib.pyplot as plt\n",
        "\n",
        "pca_data = np.hstack((x_pca,cluster_assignment))\n",
        "\n",
        "pca_df = pd.DataFrame(data=pca_data, columns=(\"1st_principal\", \"2nd_principal\",\"cluster_assignment\"))\n",
        "sns.FacetGrid(pca_df,hue=\"cluster_assignment\", height=6).map(plt.scatter, '1st_principal', '2nd_principal' ).add_legend()\n",
        "\n",
        "plt.show()"
      ],
      "metadata": {
        "colab": {
          "base_uri": "https://localhost:8080/",
          "height": 441
        },
        "id": "r3ExuA1VSRzx",
        "outputId": "3fcce81c-cc19-43ed-9716-d948ea31d062"
      },
      "execution_count": 19,
      "outputs": [
        {
          "output_type": "display_data",
          "data": {
            "text/plain": [
              "<Figure size 537.375x432 with 1 Axes>"
            ],
            "image/png": "[encoded data removed]"
          },
          "metadata": {
            "needs_background": "light"
          }
        }
      ]
    }
  ]
}