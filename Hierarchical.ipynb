{
  "nbformat": 4,
  "nbformat_minor": 0,
  "metadata": {
    "colab": {
      "provenance": []
    },
    "kernelspec": {
      "name": "python3",
      "display_name": "Python 3"
    },
    "language_info": {
      "name": "python"
    }
  },
  "cells": [
    {
      "cell_type": "code",
      "execution_count": 1,
      "metadata": {
        "colab": {
          "base_uri": "https://localhost:8080/"
        },
        "id": "HuNOHHdOLwOI",
        "outputId": "4f2a236f-f535-4cc3-a0e8-f75946062cbe"
      },
      "outputs": [
        {
          "output_type": "stream",
          "name": "stdout",
          "text": [
            "Looking in indexes: https://pypi.org/simple, https://us-python.pkg.dev/colab-wheels/public/simple/\n",
            "Collecting pyspark\n",
            "  Downloading pyspark-3.3.0.tar.gz (281.3 MB)\n",
            "\u001b[K     |████████████████████████████████| 281.3 MB 49 kB/s \n",
            "\u001b[?25hCollecting py4j==0.10.9.5\n",
            "  Downloading py4j-0.10.9.5-py2.py3-none-any.whl (199 kB)\n",
            "\u001b[K     |████████████████████████████████| 199 kB 59.7 MB/s \n",
            "\u001b[?25hBuilding wheels for collected packages: pyspark\n",
            "  Building wheel for pyspark (setup.py) ... \u001b[?25l\u001b[?25hdone\n",
            "  Created wheel for pyspark: filename=pyspark-3.3.0-py2.py3-none-any.whl size=281764026 sha256=a3e6996dff4e3f6b73a6dd5a9c3000b3ddf26655518f86f6ae49cce65299253a\n",
            "  Stored in directory: /root/.cache/pip/wheels/7a/8e/1b/f73a52650d2e5f337708d9f6a1750d451a7349a867f928b885\n",
            "Successfully built pyspark\n",
            "Installing collected packages: py4j, pyspark\n",
            "Successfully installed py4j-0.10.9.5 pyspark-3.3.0\n"
          ]
        }
      ],
      "source": [
        "pip install pyspark"
      ]
    },
    {
      "cell_type": "code",
      "source": [
        "import pandas as pd\n",
        "from sklearn.datasets import load_iris\n",
        "from pyspark.context import SparkContext\n",
        "from pyspark.sql.session import SparkSession\n",
        "sc = SparkContext('local')\n",
        "spark = SparkSession(sc)"
      ],
      "metadata": {
        "id": "jaEhyL8aMExB"
      },
      "execution_count": 2,
      "outputs": []
    },
    {
      "cell_type": "code",
      "source": [
        "import pandas as pd\n",
        "from sklearn.datasets import load_iris\n",
        "from pyspark.sql import SparkSession\n",
        "\n",
        "df_iris = load_iris(as_frame=True)"
      ],
      "metadata": {
        "id": "LwrsEsm5Mf2g"
      },
      "execution_count": 5,
      "outputs": []
    },
    {
      "cell_type": "code",
      "source": [
        "pd_df_iris = pd.DataFrame(df_iris.data, columns = df_iris.feature_names)\n",
        "pd_df_iris['target'] = pd.Series(df_iris.target)"
      ],
      "metadata": {
        "id": "xAomp6k7MIJo"
      },
      "execution_count": 6,
      "outputs": []
    },
    {
      "cell_type": "code",
      "source": [
        "spark_df_iris = spark.createDataFrame(pd_df_iris)\n",
        "spark_df_iris = spark_df_iris.drop(\"target\")"
      ],
      "metadata": {
        "id": "PlhfaEeXMkSk"
      },
      "execution_count": 7,
      "outputs": []
    },
    {
      "cell_type": "code",
      "source": [
        "from pyspark.ml.feature import VectorAssembler\n",
        "assemble=VectorAssembler(inputCols=[\n",
        "'sepal length (cm)',\n",
        "'sepal width (cm)',\n",
        "'petal length (cm)',\n",
        "'petal width (cm)'],outputCol = 'iris_features')\n",
        "\n",
        "assembled_data=assemble.transform(spark_df_iris)"
      ],
      "metadata": {
        "id": "i1gcTJYiMlUG"
      },
      "execution_count": 8,
      "outputs": []
    },
    {
      "cell_type": "code",
      "source": [
        "from pyspark.ml.clustering import BisectingKMeans\n",
        "from pyspark.ml.evaluation import ClusteringEvaluator\n",
        "\n",
        "silhouette_scores=[]\n",
        "evaluator = ClusteringEvaluator(featuresCol='iris_features', \\\n",
        "metricName='silhouette')\n",
        "for K in range(2,11):\n",
        "\n",
        "    BKMeans_=BisectingKMeans(featuresCol='iris_features', k=K, minDivisibleClusterSize =1)\n",
        "\n",
        "    BKMeans_fit=BKMeans_.fit(assembled_data)\n",
        "\n",
        "    BKMeans_transform=BKMeans_fit.transform(assembled_data) \n",
        "\n",
        "    evaluation_score=evaluator.evaluate(BKMeans_transform)\n",
        "\n",
        "    silhouette_scores.append(evaluation_score)"
      ],
      "metadata": {
        "id": "TGFRy-q1MuAw"
      },
      "execution_count": 9,
      "outputs": []
    },
    {
      "cell_type": "code",
      "source": [
        "import matplotlib.pyplot as plt\n",
        "fig, ax = plt.subplots(1,1, figsize =(10,8))\n",
        "ax.plot(range(2,11),silhouette_scores)\n",
        "ax.set_xlabel('Number of Clusters')\n",
        "ax.set_ylabel('Silhouette Score')"
      ],
      "metadata": {
        "colab": {
          "base_uri": "https://localhost:8080/",
          "height": 514
        },
        "id": "HX93cA60Mvj9",
        "outputId": "6e36b2a5-3f2c-4a2d-8aae-273d1e5e65fa"
      },
      "execution_count": 10,
      "outputs": [
        {
          "output_type": "execute_result",
          "data": {
            "text/plain": [
              "Text(0, 0.5, 'Silhouette Score')"
            ]
          },
          "metadata": {},
          "execution_count": 10
        },
        {
          "output_type": "display_data",
          "data": {
            "text/plain": [
              "<Figure size 720x576 with 1 Axes>"
            ],
            "image/png": "[encoded data removed]"
          },
          "metadata": {
            "needs_background": "light"
          }
        }
      ]
    },
    {
      "cell_type": "code",
      "source": [
        "BKMeans_=BisectingKMeans(featuresCol='iris_features', k=3) \n",
        "BKMeans_Model=BKMeans_.fit(assembled_data)\n",
        "BKMeans_transform=BKMeans_Model.transform(assembled_data)"
      ],
      "metadata": {
        "id": "GypPNfzZMzca"
      },
      "execution_count": 11,
      "outputs": []
    },
    {
      "cell_type": "code",
      "source": [
        "from pyspark.ml.feature import PCA as PCAml\n",
        "pca = PCAml(k=2, inputCol=\"iris_features\", outputCol=\"pca\")\n",
        "pca_model = pca.fit(assembled_data)\n",
        "pca_transformed = pca_model.transform(assembled_data)"
      ],
      "metadata": {
        "id": "i4LfgHxlM2uS"
      },
      "execution_count": 12,
      "outputs": []
    },
    {
      "cell_type": "code",
      "source": [
        "import numpy as np\n",
        "X_pca = pca_transformed.rdd.map(lambda row: row.pca).collect()\n",
        "X_pca = np.array(X_pca)"
      ],
      "metadata": {
        "id": "97PmeYIUM4aZ"
      },
      "execution_count": 13,
      "outputs": []
    },
    {
      "cell_type": "code",
      "source": [
        "cluster_assignment = np.array(BKMeans_transform.rdd.map(lambda row: row.prediction).collect()).reshape(-1,1)\n"
      ],
      "metadata": {
        "id": "igUM6HZYM5JV"
      },
      "execution_count": 14,
      "outputs": []
    },
    {
      "cell_type": "code",
      "source": [
        "import seaborn as sns\n",
        "import matplotlib.pyplot as plt\n",
        "from sklearn.datasets import make_blobs\n",
        "\n",
        "pca_data = np.hstack((X_pca,cluster_assignment))\n",
        "\n",
        "pca_df = pd.DataFrame(data=pca_data, columns=(\"1st_principal\", \"2nd_principal\",\"cluster_assignment\"))\n",
        "sns.FacetGrid(pca_df,hue=\"cluster_assignment\", height=6).map(plt.scatter, '1st_principal', '2nd_principal' ).add_legend()\n",
        "plt.show()"
      ],
      "metadata": {
        "colab": {
          "base_uri": "https://localhost:8080/",
          "height": 441
        },
        "id": "XSaJhSjXM8W9",
        "outputId": "502189e4-e84e-4287-a15d-e748c47c35fa"
      },
      "execution_count": 15,
      "outputs": [
        {
          "output_type": "display_data",
          "data": {
            "text/plain": [
              "<Figure size 537.375x432 with 1 Axes>"
            ],
            "image/png": "[encoded data removed]"
          },
          "metadata": {
            "needs_background": "light"
          }
        }
      ]
    },
    {
      "cell_type": "code",
      "source": [],
      "metadata": {
        "id": "aH8K6bbAM-aF"
      },
      "execution_count": null,
      "outputs": []
    }
  ]
}