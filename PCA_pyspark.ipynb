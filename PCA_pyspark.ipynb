{
  "nbformat": 4,
  "nbformat_minor": 0,
  "metadata": {
    "colab": {
      "provenance": []
    },
    "kernelspec": {
      "name": "python3",
      "display_name": "Python 3"
    },
    "language_info": {
      "name": "python"
    }
  },
  "cells": [
    {
      "cell_type": "code",
      "source": [
        "pip install pyspark"
      ],
      "metadata": {
        "colab": {
          "base_uri": "https://localhost:8080/"
        },
        "id": "4D4MzHacCDXn",
        "outputId": "aed90165-51bc-445b-acf5-c9942a26a7fa"
      },
      "execution_count": null,
      "outputs": [
        {
          "output_type": "stream",
          "name": "stdout",
          "text": [
            "Looking in indexes: https://pypi.org/simple, https://us-python.pkg.dev/colab-wheels/public/simple/\n",
            "Collecting pyspark\n",
            "  Downloading pyspark-3.3.0.tar.gz (281.3 MB)\n",
            "\u001b[K     |████████████████████████████████| 281.3 MB 49 kB/s \n",
            "\u001b[?25hCollecting py4j==0.10.9.5\n",
            "  Downloading py4j-0.10.9.5-py2.py3-none-any.whl (199 kB)\n",
            "\u001b[K     |████████████████████████████████| 199 kB 54.8 MB/s \n",
            "\u001b[?25hBuilding wheels for collected packages: pyspark\n",
            "  Building wheel for pyspark (setup.py) ... \u001b[?25l\u001b[?25hdone\n",
            "  Created wheel for pyspark: filename=pyspark-3.3.0-py2.py3-none-any.whl size=281764026 sha256=14ca5662a281bef658f0b57e7103ad27357509294cf85a138b3d5b43d99e5cd7\n",
            "  Stored in directory: /root/.cache/pip/wheels/7a/8e/1b/f73a52650d2e5f337708d9f6a1750d451a7349a867f928b885\n",
            "Successfully built pyspark\n",
            "Installing collected packages: py4j, pyspark\n",
            "Successfully installed py4j-0.10.9.5 pyspark-3.3.0\n"
          ]
        }
      ]
    },
    {
      "cell_type": "code",
      "execution_count": null,
      "metadata": {
        "id": "ZvXaLSW-BAk7"
      },
      "outputs": [],
      "source": [
        "import numpy as np\n",
        "import pandas as pd\n",
        "import matplotlib.pyplot as plt\n",
        "from sklearn.datasets import load_iris\n",
        "from pyspark.conf import SparkConf\n",
        "from pyspark.sql import SparkSession\n",
        "from pyspark.ml.feature import VectorAssembler, StandardScaler, PCA"
      ]
    },
    {
      "cell_type": "code",
      "source": [
        "spark = SparkSession.builder.appName('PCA').getOrCreate()\n",
        "iris = load_iris()\n",
        "X = iris['data']\n",
        "y = iris['target']"
      ],
      "metadata": {
        "id": "3ke1oA8JB-Yg"
      },
      "execution_count": null,
      "outputs": []
    },
    {
      "cell_type": "code",
      "source": [
        "data = pd.DataFrame(X, columns = iris.feature_names)\n",
        "dataset = spark.createDataFrame(data, iris.feature_names)\n",
        "dataset.show(6)"
      ],
      "metadata": {
        "colab": {
          "base_uri": "https://localhost:8080/"
        },
        "id": "gOG-Yc_nCage",
        "outputId": "d1a8e226-7862-4c88-bdf7-0bd0b5924805"
      },
      "execution_count": null,
      "outputs": [
        {
          "output_type": "stream",
          "name": "stdout",
          "text": [
            "+-----------------+----------------+-----------------+----------------+\n",
            "|sepal length (cm)|sepal width (cm)|petal length (cm)|petal width (cm)|\n",
            "+-----------------+----------------+-----------------+----------------+\n",
            "|              5.1|             3.5|              1.4|             0.2|\n",
            "|              4.9|             3.0|              1.4|             0.2|\n",
            "|              4.7|             3.2|              1.3|             0.2|\n",
            "|              4.6|             3.1|              1.5|             0.2|\n",
            "|              5.0|             3.6|              1.4|             0.2|\n",
            "|              5.4|             3.9|              1.7|             0.4|\n",
            "+-----------------+----------------+-----------------+----------------+\n",
            "only showing top 6 rows\n",
            "\n"
          ]
        }
      ]
    },
    {
      "cell_type": "code",
      "source": [
        "assembler = VectorAssembler(\n",
        "    inputCols = iris.feature_names, outputCol = 'features')\n",
        "\n",
        "df = assembler.transform(dataset).select('features')\n",
        "df.show(6)\n"
      ],
      "metadata": {
        "colab": {
          "base_uri": "https://localhost:8080/"
        },
        "id": "MudG6IwXCeHc",
        "outputId": "447a5325-99ad-41a7-86e1-472c3b3d5fc9"
      },
      "execution_count": null,
      "outputs": [
        {
          "output_type": "stream",
          "name": "stdout",
          "text": [
            "+-----------------+\n",
            "|         features|\n",
            "+-----------------+\n",
            "|[5.1,3.5,1.4,0.2]|\n",
            "|[4.9,3.0,1.4,0.2]|\n",
            "|[4.7,3.2,1.3,0.2]|\n",
            "|[4.6,3.1,1.5,0.2]|\n",
            "|[5.0,3.6,1.4,0.2]|\n",
            "|[5.4,3.9,1.7,0.4]|\n",
            "+-----------------+\n",
            "only showing top 6 rows\n",
            "\n"
          ]
        }
      ]
    },
    {
      "cell_type": "code",
      "source": [
        "scaler = StandardScaler(\n",
        "    inputCol = 'features',\n",
        "    outputCol = 'scaledFeatures',\n",
        "    withMean = True,\n",
        "    withStd = True\n",
        ").fit(df)"
      ],
      "metadata": {
        "id": "GlVvamcsChhq"
      },
      "execution_count": null,
      "outputs": []
    },
    {
      "cell_type": "code",
      "source": [
        "df_scaled = scaler.transform(df)\n",
        "df_scaled.show(6)"
      ],
      "metadata": {
        "colab": {
          "base_uri": "https://localhost:8080/"
        },
        "id": "4ATNhAaCCnmq",
        "outputId": "28a46d72-b4be-4187-e36e-d1b2e037ffb2"
      },
      "execution_count": null,
      "outputs": [
        {
          "output_type": "stream",
          "name": "stdout",
          "text": [
            "+-----------------+--------------------+\n",
            "|         features|      scaledFeatures|\n",
            "+-----------------+--------------------+\n",
            "|[5.1,3.5,1.4,0.2]|[-0.8976738791967...|\n",
            "|[4.9,3.0,1.4,0.2]|[-1.1392004834649...|\n",
            "|[4.7,3.2,1.3,0.2]|[-1.3807270877331...|\n",
            "|[4.6,3.1,1.5,0.2]|[-1.5014903898672...|\n",
            "|[5.0,3.6,1.4,0.2]|[-1.0184371813308...|\n",
            "|[5.4,3.9,1.7,0.4]|[-0.5353839727944...|\n",
            "+-----------------+--------------------+\n",
            "only showing top 6 rows\n",
            "\n"
          ]
        }
      ]
    },
    {
      "cell_type": "code",
      "source": [
        "n_components = 2\n",
        "pca = PCA(\n",
        "    k = n_components,\n",
        "    inputCol = 'scaledFeatures',\n",
        "    outputCol = 'pcaFeatures'\n",
        ").fit(df_scaled)"
      ],
      "metadata": {
        "id": "jr8KjxJ2CoyB"
      },
      "execution_count": null,
      "outputs": []
    },
    {
      "cell_type": "code",
      "source": [
        "df_pca = pca.transform(df_scaled)\n",
        "print('Explained Variance Ratio', pca.explainedVariance.toArray())\n",
        "df_pca.show(6)"
      ],
      "metadata": {
        "colab": {
          "base_uri": "https://localhost:8080/"
        },
        "id": "h6VJbcWNCsTp",
        "outputId": "a50a835c-c4b0-4e03-fad9-b00b5fb91288"
      },
      "execution_count": null,
      "outputs": [
        {
          "output_type": "stream",
          "name": "stdout",
          "text": [
            "Explained Variance Ratio [0.72962445 0.22850762]\n",
            "+-----------------+--------------------+--------------------+\n",
            "|         features|      scaledFeatures|         pcaFeatures|\n",
            "+-----------------+--------------------+--------------------+\n",
            "|[5.1,3.5,1.4,0.2]|[-0.8976738791967...|[2.25714117564811...|\n",
            "|[4.9,3.0,1.4,0.2]|[-1.1392004834649...|[2.07401301519962...|\n",
            "|[4.7,3.2,1.3,0.2]|[-1.3807270877331...|[2.35633511180617...|\n",
            "|[4.6,3.1,1.5,0.2]|[-1.5014903898672...|[2.29170678586969...|\n",
            "|[5.0,3.6,1.4,0.2]|[-1.0184371813308...|[2.38186270441693...|\n",
            "|[5.4,3.9,1.7,0.4]|[-0.5353839727944...|[2.06870060846769...|\n",
            "+-----------------+--------------------+--------------------+\n",
            "only showing top 6 rows\n",
            "\n"
          ]
        }
      ]
    },
    {
      "cell_type": "code",
      "source": [
        "X_pca = df_pca.rdd.map(lambda row: row.pcaFeatures).collect()\n",
        "X_pca = np.array(X_pca)\n",
        "plt.style.use('fivethirtyeight')\n",
        "plt.rcParams['figure.figsize'] = 8, 6\n",
        "plt.rcParams['font.size'] = 12\n"
      ],
      "metadata": {
        "id": "3cnCBkSICwaS"
      },
      "execution_count": null,
      "outputs": []
    },
    {
      "cell_type": "code",
      "source": [
        "def plot_iris_pca(X_pca, y):\n",
        "    \"\"\"a scatter plot of the 2-dimensional iris data\"\"\"\n",
        "    markers = 's', 'x', 'o'\n",
        "    colors = list(plt.rcParams['axes.prop_cycle'])\n",
        "    target = np.unique(y)\n",
        "    for idx, (t, m) in enumerate(zip(target, markers)):\n",
        "        subset = X_pca[y == t]\n",
        "        plt.scatter(subset[:, 0], subset[:, 1], s = 50,\n",
        "                    c = colors[idx]['color'], label = t, marker = m)\n",
        "\n",
        "    plt.xlabel('PC 1')\n",
        "    plt.ylabel('PC 2')\n",
        "    plt.legend(loc = 'lower left')\n",
        "    plt.tight_layout()\n",
        "    plt.show()\n",
        "plot_iris_pca(X_pca, y)"
      ],
      "metadata": {
        "colab": {
          "base_uri": "https://localhost:8080/",
          "height": 437
        },
        "id": "jUVv5JOcCwlI",
        "outputId": "9ebf1917-3924-4828-cb92-f10ab50e6d5a"
      },
      "execution_count": null,
      "outputs": [
        {
          "output_type": "display_data",
          "data": {
            "text/plain": [
              "<Figure size 576x432 with 1 Axes>"
            ],
            "image/png": "[encoded data removed]"
          },
          "metadata": {}
        }
      ]
    },
    {
      "cell_type": "code",
      "source": [
        "spark.stop()"
      ],
      "metadata": {
        "id": "myJGyd92C4HL"
      },
      "execution_count": null,
      "outputs": []
    },
    {
      "cell_type": "code",
      "source": [],
      "metadata": {
        "id": "28-1V5hcCsbv"
      },
      "execution_count": null,
      "outputs": []
    }
  ]
}